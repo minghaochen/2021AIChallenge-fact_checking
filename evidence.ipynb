{
 "cells": [
  {
   "cell_type": "code",
   "execution_count": 1,
   "id": "0e89101c",
   "metadata": {},
   "outputs": [],
   "source": [
    "import pandas as pd\n"
   ]
  },
  {
   "cell_type": "code",
   "execution_count": 2,
   "id": "00ae16df",
   "metadata": {},
   "outputs": [],
   "source": [
    "evidence = pd.read_csv('evidence.csv',sep='\\t')"
   ]
  },
  {
   "cell_type": "code",
   "execution_count": 3,
   "id": "1bee2545",
   "metadata": {},
   "outputs": [
    {
     "data": {
      "text/html": [
       "<div>\n",
       "<style scoped>\n",
       "    .dataframe tbody tr th:only-of-type {\n",
       "        vertical-align: middle;\n",
       "    }\n",
       "\n",
       "    .dataframe tbody tr th {\n",
       "        vertical-align: top;\n",
       "    }\n",
       "\n",
       "    .dataframe thead th {\n",
       "        text-align: right;\n",
       "    }\n",
       "</style>\n",
       "<table border=\"1\" class=\"dataframe\">\n",
       "  <thead>\n",
       "    <tr style=\"text-align: right;\">\n",
       "      <th></th>\n",
       "      <th>ID</th>\n",
       "      <th>evidence</th>\n",
       "    </tr>\n",
       "  </thead>\n",
       "  <tbody>\n",
       "    <tr>\n",
       "      <th>0</th>\n",
       "      <td>0</td>\n",
       "      <td>On Obamacare, Republicans generally fall into ...</td>\n",
       "    </tr>\n",
       "    <tr>\n",
       "      <th>1</th>\n",
       "      <td>1</td>\n",
       "      <td>President Donald Trump stands firmly by the di...</td>\n",
       "    </tr>\n",
       "    <tr>\n",
       "      <th>2</th>\n",
       "      <td>2</td>\n",
       "      <td>In a recent post on Medium, Robby Mook -- Hill...</td>\n",
       "    </tr>\n",
       "    <tr>\n",
       "      <th>3</th>\n",
       "      <td>3</td>\n",
       "      <td>During the 2020 State of the Union address, Pr...</td>\n",
       "    </tr>\n",
       "    <tr>\n",
       "      <th>4</th>\n",
       "      <td>4</td>\n",
       "      <td>Republican presidential nominee Donald Trump p...</td>\n",
       "    </tr>\n",
       "    <tr>\n",
       "      <th>...</th>\n",
       "      <td>...</td>\n",
       "      <td>...</td>\n",
       "    </tr>\n",
       "    <tr>\n",
       "      <th>20001</th>\n",
       "      <td>20001</td>\n",
       "      <td>Did Vice President Joe Biden really endorse fo...</td>\n",
       "    </tr>\n",
       "    <tr>\n",
       "      <th>20002</th>\n",
       "      <td>20002</td>\n",
       "      <td>It must be some kind of election-year hazing r...</td>\n",
       "    </tr>\n",
       "    <tr>\n",
       "      <th>20003</th>\n",
       "      <td>20003</td>\n",
       "      <td>President Donald Trump prematurely, and falsel...</td>\n",
       "    </tr>\n",
       "    <tr>\n",
       "      <th>20004</th>\n",
       "      <td>20004</td>\n",
       "      <td>It’s the beginning of a new school year, and f...</td>\n",
       "    </tr>\n",
       "    <tr>\n",
       "      <th>20005</th>\n",
       "      <td>20005</td>\n",
       "      <td>Conspiracy theories continue to swirl around D...</td>\n",
       "    </tr>\n",
       "  </tbody>\n",
       "</table>\n",
       "<p>20006 rows × 2 columns</p>\n",
       "</div>"
      ],
      "text/plain": [
       "          ID                                           evidence\n",
       "0          0  On Obamacare, Republicans generally fall into ...\n",
       "1          1  President Donald Trump stands firmly by the di...\n",
       "2          2  In a recent post on Medium, Robby Mook -- Hill...\n",
       "3          3  During the 2020 State of the Union address, Pr...\n",
       "4          4  Republican presidential nominee Donald Trump p...\n",
       "...      ...                                                ...\n",
       "20001  20001  Did Vice President Joe Biden really endorse fo...\n",
       "20002  20002  It must be some kind of election-year hazing r...\n",
       "20003  20003  President Donald Trump prematurely, and falsel...\n",
       "20004  20004  It’s the beginning of a new school year, and f...\n",
       "20005  20005  Conspiracy theories continue to swirl around D...\n",
       "\n",
       "[20006 rows x 2 columns]"
      ]
     },
     "execution_count": 3,
     "metadata": {},
     "output_type": "execute_result"
    }
   ],
   "source": [
    "evidence"
   ]
  },
  {
   "cell_type": "code",
   "execution_count": 4,
   "id": "10c0161a",
   "metadata": {},
   "outputs": [],
   "source": [
    "fact_checking_train = pd.read_csv('fact_checking_train.csv',sep='\\t')"
   ]
  },
  {
   "cell_type": "code",
   "execution_count": 34,
   "id": "f521a5b0",
   "metadata": {},
   "outputs": [],
   "source": [
    "fact_checking_test = pd.read_csv('fact_checking_test.csv',sep='\\t')\n"
   ]
  },
  {
   "cell_type": "code",
   "execution_count": 35,
   "id": "8640a10f",
   "metadata": {},
   "outputs": [
    {
     "data": {
      "text/plain": [
       "'\"A few months ago, it hit where West Virginia is, on a per capita basis, one of the most successful (gross domestic product) states in our union.\"'"
      ]
     },
     "execution_count": 35,
     "metadata": {},
     "output_type": "execute_result"
    }
   ],
   "source": [
    "fact_checking_test.iloc[1]['claim']"
   ]
  },
  {
   "cell_type": "code",
   "execution_count": 37,
   "id": "961a72f6",
   "metadata": {},
   "outputs": [
    {
     "data": {
      "text/plain": [
       "'In a WV Metro News debate before he won another term in Congress, U.S. Rep. David McKinley, R-W.Va., defended President Donald Trump’s handling of the economy, saying the state had benefited disproportionately.\\n\"Last year we had the eighth fastest-growing economy in the country in West Virginia,\" he said, responding to Kendra Fershee, his Democratic opponent.\\nIs McKinley’s statement accurate?\\nEarlier this year, data from the Bureau of Economic Analysis -- the federal office that calculates economic growth in the states -- showed that West Virginia ranked 11th in inflation-adjusted growth in gross domestic product between 2016 and 2017, with a 2.6 percent increase. That’s not the same as eighth, but it’s close.\\nThat data, however, was subsequently updated, and the newer data is less favorable to West Virginia.\\nIn the most recent calculations, West Virginia actually ranked 19th out of the 50 states in year-over-year change in GDP, with a 2.2 percent increase. So West Virginia was in the top half of the ratings table, but well below the eighth-place finish that McKinley cited.\\n\\nA more impressive measurement for the state was one that McKinley didn’t mention -- the increase in GDP per capita, a statistic that adjusts the size of growth to account for a state’s population.\\n\\n'"
      ]
     },
     "execution_count": 37,
     "metadata": {},
     "output_type": "execute_result"
    }
   ],
   "source": [
    "evidence.iloc[6674]['evidence']"
   ]
  },
  {
   "cell_type": "code",
   "execution_count": 14,
   "id": "32f1d7c7",
   "metadata": {},
   "outputs": [],
   "source": [
    "from sklearn.feature_extraction.text import TfidfVectorizer\n",
    "vec = TfidfVectorizer()\n",
    "X = vec.fit_transform(fact_checking_train['claim'])\n",
    "Y = vec.transform(evidence['evidence'])"
   ]
  },
  {
   "cell_type": "code",
   "execution_count": 15,
   "id": "061f400e",
   "metadata": {},
   "outputs": [
    {
     "ename": "ModuleNotFoundError",
     "evalue": "No module named 'faiss'",
     "output_type": "error",
     "traceback": [
      "\u001b[1;31m---------------------------------------------------------------------------\u001b[0m",
      "\u001b[1;31mModuleNotFoundError\u001b[0m                       Traceback (most recent call last)",
      "\u001b[1;32m<ipython-input-15-1197b83c20f7>\u001b[0m in \u001b[0;36m<module>\u001b[1;34m\u001b[0m\n\u001b[1;32m----> 1\u001b[1;33m \u001b[1;32mimport\u001b[0m \u001b[0mfaiss\u001b[0m\u001b[1;33m\u001b[0m\u001b[0m\n\u001b[0m\u001b[0;32m      2\u001b[0m \u001b[1;32mfrom\u001b[0m \u001b[0mfaiss\u001b[0m \u001b[1;32mimport\u001b[0m \u001b[0mnormalize_L2\u001b[0m\u001b[1;33m\u001b[0m\u001b[0m\n",
      "\u001b[1;31mModuleNotFoundError\u001b[0m: No module named 'faiss'"
     ]
    }
   ],
   "source": [
    "import faiss\n",
    "from faiss import normalize_L2"
   ]
  },
  {
   "cell_type": "code",
   "execution_count": 17,
   "id": "aa32c2bb",
   "metadata": {},
   "outputs": [
    {
     "data": {
      "text/plain": [
       "<18000x16123 sparse matrix of type '<class 'numpy.float32'>'\n",
       "\twith 292483 stored elements in Compressed Sparse Row format>"
      ]
     },
     "execution_count": 17,
     "metadata": {},
     "output_type": "execute_result"
    }
   ],
   "source": [
    "X.astype('float32')"
   ]
  },
  {
   "cell_type": "code",
   "execution_count": 23,
   "id": "24745073",
   "metadata": {},
   "outputs": [
    {
     "ename": "AttributeError",
     "evalue": "'function' object has no attribute 'astype'",
     "output_type": "error",
     "traceback": [
      "\u001b[1;31m---------------------------------------------------------------------------\u001b[0m",
      "\u001b[1;31mAttributeError\u001b[0m                            Traceback (most recent call last)",
      "\u001b[1;32m<ipython-input-23-95129850fe7b>\u001b[0m in \u001b[0;36m<module>\u001b[1;34m\u001b[0m\n\u001b[1;32m----> 1\u001b[1;33m \u001b[0mY\u001b[0m\u001b[1;33m.\u001b[0m\u001b[0mtodense\u001b[0m\u001b[1;33m.\u001b[0m\u001b[0mastype\u001b[0m\u001b[1;33m(\u001b[0m\u001b[1;34m'float32'\u001b[0m\u001b[1;33m)\u001b[0m\u001b[1;33m\u001b[0m\u001b[0m\n\u001b[0m",
      "\u001b[1;31mAttributeError\u001b[0m: 'function' object has no attribute 'astype'"
     ]
    }
   ],
   "source": [
    "Y.todense"
   ]
  },
  {
   "cell_type": "code",
   "execution_count": 26,
   "id": "b651c526",
   "metadata": {},
   "outputs": [
    {
     "data": {
      "text/plain": [
       "array([[0.        , 0.03706377, 0.        , ..., 0.        , 0.        ,\n",
       "        0.        ],\n",
       "       [0.        , 0.        , 0.        , ..., 0.        , 0.        ,\n",
       "        0.        ],\n",
       "       [0.        , 0.        , 0.        , ..., 0.        , 0.        ,\n",
       "        0.        ],\n",
       "       ...,\n",
       "       [0.        , 0.        , 0.        , ..., 0.        , 0.        ,\n",
       "        0.        ],\n",
       "       [0.        , 0.02155259, 0.        , ..., 0.        , 0.        ,\n",
       "        0.        ],\n",
       "       [0.        , 0.        , 0.        , ..., 0.        , 0.        ,\n",
       "        0.        ]], dtype=float32)"
      ]
     },
     "execution_count": 26,
     "metadata": {},
     "output_type": "execute_result"
    }
   ],
   "source": [
    "Y.toarray().astype('float32')"
   ]
  },
  {
   "cell_type": "code",
   "execution_count": null,
   "id": "0f5dca8e",
   "metadata": {},
   "outputs": [],
   "source": []
  }
 ],
 "metadata": {
  "kernelspec": {
   "display_name": "Python 3",
   "language": "python",
   "name": "python3"
  },
  "language_info": {
   "codemirror_mode": {
    "name": "ipython",
    "version": 3
   },
   "file_extension": ".py",
   "mimetype": "text/x-python",
   "name": "python",
   "nbconvert_exporter": "python",
   "pygments_lexer": "ipython3",
   "version": "3.7.0"
  }
 },
 "nbformat": 4,
 "nbformat_minor": 5
}
